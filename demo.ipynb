{
 "cells": [
  {
   "cell_type": "code",
   "execution_count": null,
   "metadata": {},
   "outputs": [],
   "source": [
    "from typing import List, Dict\n",
    "from mphpc import HPCApp\n",
    "import os\n",
    "\n",
    "# Setting the client_id of the app and pass the access_token to using the app through SDK\n",
    "mp = HPCApp(client_id=\"5fd66c68-50e9-474a-b55d-148777ae3efd\",\n",
    "                    access_token=os.environ.get('MP_ACCESS_TOKEN'))\n",
    "\n",
    "# The heartbeat capability to show the state of server and the HPC resource\n",
    "print(mp.heartbeat())"
   ]
  },
  {
   "cell_type": "markdown",
   "metadata": {},
   "source": [
    "## initialize a new job\n",
    "\n",
    "using capability `new_trasformation`, the app create a folder under the user repository path in the remote HPC resource. \n",
    "The remote path name is returned for futher files transfor operations and as `transformation_id` for job submission."
   ]
  },
  {
   "cell_type": "code",
   "execution_count": null,
   "metadata": {},
   "outputs": [],
   "source": [
    "# The resourceId returned will be the remote path\n",
    "response = mp.new_transformation(config=None)\n",
    "print(response)\n",
    "\n",
    "import ast\n",
    "response = ast.literal_eval(response)\n",
    "remote_path = response['resourceId']"
   ]
  },
  {
   "cell_type": "code",
   "execution_count": null,
   "metadata": {},
   "outputs": [],
   "source": [
    "!ssh daint.cscs.ch \"cd /scratch/snx3000/jyu/firecrest/jusong_yu/ && ls -l\""
   ]
  },
  {
   "cell_type": "markdown",
   "metadata": {},
   "source": [
    "# Upload input files and slurm job script to the path\n",
    "\n",
    "The capabilities `updateDataset`, `getDataset` and `deleteDataset` are for upload, download and delete files on remote path.\n",
    "\n",
    "However, instead of remote path only it is also require to pass filename to manipulate the files which is not completely compatible with the initial designs of these capabilities which are for database in the first place. \n",
    "I hack it a bit to pass the filename by a json object."
   ]
  },
  {
   "cell_type": "code",
   "execution_count": null,
   "metadata": {},
   "outputs": [],
   "source": [
    "cmd = f'ls -l /scratch/snx3000/jyu/firecrest/jusong_yu/{remote_path}'\n",
    "!ssh daint.cscs.ch $cmd"
   ]
  },
  {
   "cell_type": "code",
   "execution_count": null,
   "metadata": {},
   "outputs": [],
   "source": [
    "! head -n 10 ./sample_files/colloid.in"
   ]
  },
  {
   "cell_type": "code",
   "execution_count": null,
   "metadata": {},
   "outputs": [],
   "source": [
    "# send a file to remote folder\n",
    "with open('./sample_files/colloid.in', 'rb') as fh:\n",
    "    mp.put(\n",
    "        path='updateDataset',\n",
    "        params={'resource': f'{remote_path}'},\n",
    "        files={'file': fh},\n",
    "    )\n",
    "    \n",
    "with open('./sample_files/submit.sh', 'rb') as fh:\n",
    "    mp.put(\n",
    "        path='updateDataset',\n",
    "        params={'resource': f'{remote_path}'},\n",
    "        files={'file': fh},\n",
    "    )"
   ]
  },
  {
   "cell_type": "code",
   "execution_count": null,
   "metadata": {},
   "outputs": [],
   "source": [
    "cmd = f'ls -l /scratch/snx3000/jyu/firecrest/jusong_yu/{remote_path}'\n",
    "!ssh daint.cscs.ch $cmd"
   ]
  },
  {
   "cell_type": "code",
   "execution_count": null,
   "metadata": {},
   "outputs": [],
   "source": [
    "# will be `mp.get_dataset` in the future\n",
    "resp = mp.get(\n",
    "    path='getDataset', \n",
    "    params={'resource': f'{remote_path}'}, \n",
    "    json={\"filename\": \"submit.sh\"},\n",
    ")"
   ]
  },
  {
   "cell_type": "code",
   "execution_count": null,
   "metadata": {},
   "outputs": [],
   "source": [
    "print(resp.text)"
   ]
  },
  {
   "cell_type": "markdown",
   "metadata": {},
   "source": [
    "## Submit job and check the jobs list\n",
    "\n",
    "`start_transformation` corresponding to capability `startTransformation` which will do actuall job submit into the scheduler system and return the job info.\n",
    "Then I can using `get_transformation_list` to retrieve all the jobs of current user in remote resource.\n",
    "\n",
    "TODO: implement `get_transformation_status`"
   ]
  },
  {
   "cell_type": "code",
   "execution_count": null,
   "metadata": {},
   "outputs": [],
   "source": [
    "mp.get_transformation_list()"
   ]
  },
  {
   "cell_type": "code",
   "execution_count": null,
   "metadata": {},
   "outputs": [],
   "source": [
    "mp.post(\n",
    "    path='startTransformation',\n",
    "    params={'resource': f'{remote_path}'}\n",
    ").text"
   ]
  },
  {
   "cell_type": "code",
   "execution_count": null,
   "metadata": {},
   "outputs": [],
   "source": [
    "mp.get_transformation_list()"
   ]
  },
  {
   "cell_type": "code",
   "execution_count": null,
   "metadata": {},
   "outputs": [],
   "source": [
    "cmd = f\"tail /scratch/snx3000/jyu/firecrest/jusong_yu/{remote_path}/log.lammps\"\n",
    "!ssh daint.cscs.ch $cmd"
   ]
  },
  {
   "cell_type": "markdown",
   "metadata": {},
   "source": [
    "## Notes to activate account for using hpc-app\n",
    "\n",
    "1. Having an account on MarketPlace and purchase hpc-app.\n",
    "2. Send me the email of account and I will add it to whitelist of app.\n",
    "3. https://mp-hpc.herokuapp.com/register with MarketPlace token which will create data repo (a remote folder) in HPC resource and mapping the user name to hpc server database where the jobs and users are storing. Currently it is in `/scratch/snx3000/jyu/firecrest/<prefer_name>/`. (TODO: this will be a view form in frontpage.)\n",
    "4. Happy computing."
   ]
  }
 ],
 "metadata": {
  "interpreter": {
   "hash": "ff44bf46afe16611456f7c915984caf83c9aa021617754637634791ae1e9af16"
  },
  "kernelspec": {
   "display_name": "Python 3.9.7 ('hpc-app')",
   "language": "python",
   "name": "python3"
  },
  "language_info": {
   "codemirror_mode": {
    "name": "ipython",
    "version": 3
   },
   "file_extension": ".py",
   "mimetype": "text/x-python",
   "name": "python",
   "nbconvert_exporter": "python",
   "pygments_lexer": "ipython3",
   "version": "3.9.7"
  },
  "orig_nbformat": 4
 },
 "nbformat": 4,
 "nbformat_minor": 2
}
