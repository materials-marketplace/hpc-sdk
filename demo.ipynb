{
 "cells": [
  {
   "cell_type": "code",
   "execution_count": 1,
   "metadata": {},
   "outputs": [],
   "source": [
    "from mphpc import HPCApp\n",
    "import os\n",
    "\n",
    "# Setting the client_id of the hpc app and pass the access_token to using the app through SDK\n",
    "hpc = HPCApp(client_id=\"5fd66c68-50e9-474a-b55d-148777ae3efd\",\n",
    "                    access_token=os.environ.get('MP_ACCESS_TOKEN'))"
   ]
  },
  {
   "cell_type": "code",
   "execution_count": 2,
   "metadata": {},
   "outputs": [
    {
     "name": "stdout",
     "output_type": "stream",
     "text": [
      "{\"description\":\"System ready\",\"message\":\"user is available.\",\"status\":\"available\",\"system\":\"daint\"}\n",
      "\n"
     ]
    }
   ],
   "source": [
    "# The heartbeat capability to show the state of server and the HPC resource\n",
    "print(hpc.status())"
   ]
  },
  {
   "cell_type": "markdown",
   "metadata": {},
   "source": [
    "## initialize a new job\n",
    "\n",
    "using capability `new_trasformation`, the app create a folder under the user repository path in the remote HPC resource. \n",
    "The remote path name is returned for futher files transfor operations and as `transformation_id` for job submission."
   ]
  },
  {
   "cell_type": "code",
   "execution_count": 3,
   "metadata": {},
   "outputs": [
    {
     "name": "stdout",
     "output_type": "stream",
     "text": [
      "8d16388c-7354-427a-9931-8c1555028a89\n"
     ]
    }
   ],
   "source": [
    "# The resource_id returned will be the remote path\n",
    "resource_id = hpc.new_job(config=None)\n",
    "print(resource_id)"
   ]
  },
  {
   "cell_type": "code",
   "execution_count": 4,
   "metadata": {},
   "outputs": [
    {
     "name": "stdout",
     "output_type": "stream",
     "text": [
      "total 48\n",
      "drwxr-xr-x 2 jyu mr0 4096 Apr  8 09:50 023eeb90-241b-4dac-81af-88aa4973923e\n",
      "drwxr-xr-x 2 jyu mr0 4096 Apr  5 13:00 0e7d0608-d3d2-4ea7-b778-47de81e21931\n",
      "drwxr-xr-x 2 jyu mr0 4096 Apr  8 03:56 20e93a11-8fc4-42c0-b2b3-e8061880b7b4\n",
      "drwxr-xr-x 2 jyu mr0 4096 Apr  5 13:41 4dab5be5-65d5-4303-baf0-5f1722b27c53\n",
      "drwxr-xr-x 2 jyu mr0 4096 Apr  8 03:25 54d0af78-be1a-4da1-ac9f-ac9599f7b4a2\n",
      "drwxr-xr-x 2 jyu mr0 4096 Apr  8 03:48 6f96f400-b157-448a-b478-27aa2a5ee522\n",
      "drwxr-xr-x 2 jyu mr0 4096 Apr 28 13:43 8d16388c-7354-427a-9931-8c1555028a89\n",
      "drwxr-xr-x 2 jyu mr0 4096 Apr  8 03:51 b47105b6-b765-4b4c-8ac9-2a0e4d3a3bcd\n",
      "drwxr-xr-x 2 jyu mr0 4096 Apr  5 14:17 ba96c061-f706-47eb-9acd-78666fbb3ca1\n",
      "drwxr-xr-x 2 jyu mr0 4096 Apr  8 10:42 e990fde0-960e-49a3-b5af-7abf3b115ffd\n",
      "drwxr-xr-x 2 jyu mr0 4096 Apr 27 15:40 f1701e07-7e48-4b53-a915-6e0a9caad4cf\n",
      "drwxr-xr-x 2 jyu mr0 4096 Apr 28 12:57 f6ed9397-0bf2-4db7-975f-61b6df4af447\n"
     ]
    }
   ],
   "source": [
    "!ssh daint.cscs.ch \"cd /scratch/snx3000/jyu/firecrest/jusong_yu/ && ls -l\""
   ]
  },
  {
   "cell_type": "markdown",
   "metadata": {},
   "source": [
    "# Upload input files and slurm job script to the path\n",
    "\n",
    "The capabilities `updateDataset`, `getDataset` and `deleteDataset` are for upload, download and delete files on remote path.\n",
    "\n",
    "However, instead of remote path only it is also require to pass filename to manipulate the files which is not completely compatible with the initial designs of these capabilities which are for database in the first place. \n",
    "I hack it a bit to pass the filename by a json object."
   ]
  },
  {
   "cell_type": "code",
   "execution_count": 5,
   "metadata": {},
   "outputs": [
    {
     "name": "stdout",
     "output_type": "stream",
     "text": [
      "total 0\n"
     ]
    }
   ],
   "source": [
    "cmd = f'ls -l /scratch/snx3000/jyu/firecrest/jusong_yu/{resource_id}'\n",
    "!ssh daint.cscs.ch $cmd"
   ]
  },
  {
   "cell_type": "code",
   "execution_count": 6,
   "metadata": {},
   "outputs": [
    {
     "name": "stdout",
     "output_type": "stream",
     "text": [
      "# Big colloid particles and small LJ particles\n",
      "\n",
      "units\t\tlj\n",
      "atom_style\tsphere\n",
      "dimension\t2\n",
      "\n",
      "lattice\t\tsq 0.01\n",
      "region\t\tbox block 0 30 0 30 -0.5 0.5\n",
      "create_box\t2 box\n",
      "create_atoms\t1 box\n"
     ]
    }
   ],
   "source": [
    "! head -n 10 ./sample_files/colloid.in"
   ]
  },
  {
   "cell_type": "code",
   "execution_count": 7,
   "metadata": {},
   "outputs": [
    {
     "name": "stderr",
     "output_type": "stream",
     "text": [
      "Not 200 but 201, please check\n",
      "Not 200 but 201, please check\n"
     ]
    }
   ],
   "source": [
    "# send LAMMPS input file and job script to remote folder\n",
    "hpc.upload(resource_id=resource_id, source_path='./sample_files/colloid.in')\n",
    "\n",
    "hpc.upload(resource_id=resource_id, source_path='./sample_files/submit.sh')"
   ]
  },
  {
   "cell_type": "code",
   "execution_count": 8,
   "metadata": {},
   "outputs": [
    {
     "name": "stdout",
     "output_type": "stream",
     "text": [
      "total 8\n",
      "-rw-r--r-- 1 jyu mr0 1066 Apr 28 13:44 colloid.in\n",
      "-rw-r--r-- 1 jyu mr0  592 Apr 28 13:44 submit.sh\n"
     ]
    }
   ],
   "source": [
    "cmd = f'ls -l /scratch/snx3000/jyu/firecrest/jusong_yu/{resource_id}'\n",
    "!ssh daint.cscs.ch $cmd"
   ]
  },
  {
   "cell_type": "code",
   "execution_count": 9,
   "metadata": {},
   "outputs": [
    {
     "name": "stdout",
     "output_type": "stream",
     "text": [
      "#!/bin/bash -l\n",
      "#SBATCH --job-name=\"lammps-colloid\"\n",
      "#SBATCH --account=\"mrcloud\"\n",
      "#SBATCH --mail-type=ALL\n",
      "#SBATCH --mail-user=jusong.yu@epfl.ch\n",
      "#SBATCH --time=00:10:00\n",
      "#SBATCH --nodes=1\n",
      "#SBATCH --ntasks-per-core=1\n",
      "#SBATCH --ntasks-per-node=4\n",
      "#SBATCH --cpus-per-task=1\n",
      "#SBATCH --partition=debug\n",
      "#SBATCH --constraint=mc\n",
      "#SBATCH --hint=nomultithread\n",
      "\n",
      "module load daint-mc/20.08\n",
      "module load LAMMPS/03Mar20-CrayGNU-20.08\n",
      "\n",
      "export OMP_NUM_THREADS=$SLURM_CPUS_PER_TASK\n",
      "\n",
      "'srun' '-n' '4' '/apps/daint/UES/jenkins/7.0.UP02/mc/easybuild/software/LAMMPS/03Mar20-CrayGNU-20.08/bin/lmp_mpi' '-in' 'colloid.in'\n",
      "\n"
     ]
    }
   ],
   "source": [
    "# download the file\n",
    "content = hpc.download(resource_id=resource_id, filename='submit.sh')\n",
    "print(content)"
   ]
  },
  {
   "cell_type": "markdown",
   "metadata": {},
   "source": [
    "## Submit job and check the jobs list\n",
    "\n",
    "`start_transformation` corresponding to capability `startTransformation` which will do actuall job submit into the scheduler system and return the job info.\n",
    "Then I can using `get_transformation_list` to retrieve all the jobs of current user in remote resource.\n"
   ]
  },
  {
   "cell_type": "code",
   "execution_count": 10,
   "metadata": {},
   "outputs": [
    {
     "name": "stdout",
     "output_type": "stream",
     "text": [
      "{\n",
      "  \"37534830\": {\n",
      "    \"jobid\": \"37534830\",\n",
      "    \"name\": \"job_name\",\n",
      "    \"nodelist\": \"nid01197\",\n",
      "    \"nodes\": \"1\",\n",
      "    \"partition\": \"debug\",\n",
      "    \"start_time\": \"2022-04-05T13:00:14\",\n",
      "    \"state\": \"COMPLETED\",\n",
      "    \"time\": \"00:19:12\",\n",
      "    \"time_left\": \"2022-04-05T13:00:30\"\n",
      "  },\n",
      "  \"37582275\": {\n",
      "    \"jobid\": \"37582275\",\n",
      "    \"name\": \"lammps-colloid\",\n",
      "    \"nodelist\": \"nid01197\",\n",
      "    \"nodes\": \"1\",\n",
      "    \"partition\": \"debug\",\n",
      "    \"start_time\": \"2022-04-08T03:25:14\",\n",
      "    \"state\": \"COMPLETED\",\n",
      "    \"time\": \"00:40:48\",\n",
      "    \"time_left\": \"2022-04-08T03:25:48\"\n",
      "  },\n",
      "  \"37587906\": {\n",
      "    \"jobid\": \"37587906\",\n",
      "    \"name\": \"lammps-colloid\",\n",
      "    \"nodelist\": \"nid00011\",\n",
      "    \"nodes\": \"1\",\n",
      "    \"partition\": \"debug\",\n",
      "    \"start_time\": \"2022-04-08T10:41:28\",\n",
      "    \"state\": \"COMPLETED\",\n",
      "    \"time\": \"01:22:48\",\n",
      "    \"time_left\": \"2022-04-08T10:42:37\"\n",
      "  },\n",
      "  \"38015471\": {\n",
      "    \"jobid\": \"38015471\",\n",
      "    \"name\": \"lammps-colloid\",\n",
      "    \"nodelist\": \"nid00010\",\n",
      "    \"nodes\": \"1\",\n",
      "    \"partition\": \"debug\",\n",
      "    \"start_time\": \"2022-04-27T15:40:22\",\n",
      "    \"state\": \"COMPLETED\",\n",
      "    \"time\": \"00:14:24\",\n",
      "    \"time_left\": \"2022-04-27T15:40:34\"\n",
      "  }\n",
      "}\n"
     ]
    }
   ],
   "source": [
    "import json\n",
    "\n",
    "jblst = hpc.list_job()\n",
    "print(json.dumps(jblst, indent=2))"
   ]
  },
  {
   "cell_type": "code",
   "execution_count": 11,
   "metadata": {},
   "outputs": [
    {
     "name": "stdout",
     "output_type": "stream",
     "text": [
      "{\"job_data_err\":\"\",\"job_data_out\":\"\",\"job_file\":\"/scratch/snx3000/jyu/firecrest/jusong_yu/8d16388c-7354-427a-9931-8c1555028a89/submit.sh\",\"job_file_err\":\"/scratch/snx3000/jyu/firecrest/jusong_yu/8d16388c-7354-427a-9931-8c1555028a89/slurm-38038203.out\",\"job_file_out\":\"/scratch/snx3000/jyu/firecrest/jusong_yu/8d16388c-7354-427a-9931-8c1555028a89/slurm-38038203.out\",\"jobid\":38038203,\"result\":\"Job submitted\",\"userid\":\"624c1d1104ba3511f2b24240\"}\n",
      "\n"
     ]
    }
   ],
   "source": [
    "rsp = hpc.run_job(resource_id=resource_id)\n",
    "print(rsp)"
   ]
  },
  {
   "cell_type": "code",
   "execution_count": 12,
   "metadata": {},
   "outputs": [
    {
     "name": "stdout",
     "output_type": "stream",
     "text": [
      "{'37534830': {'jobid': '37534830', 'name': 'job_name', 'nodelist': 'nid01197', 'nodes': '1', 'partition': 'debug', 'start_time': '2022-04-05T13:00:14', 'state': 'COMPLETED', 'time': '00:19:12', 'time_left': '2022-04-05T13:00:30'}, '37582275': {'jobid': '37582275', 'name': 'lammps-colloid', 'nodelist': 'nid01197', 'nodes': '1', 'partition': 'debug', 'start_time': '2022-04-08T03:25:14', 'state': 'COMPLETED', 'time': '00:40:48', 'time_left': '2022-04-08T03:25:48'}, '37587906': {'jobid': '37587906', 'name': 'lammps-colloid', 'nodelist': 'nid00011', 'nodes': '1', 'partition': 'debug', 'start_time': '2022-04-08T10:41:28', 'state': 'COMPLETED', 'time': '01:22:48', 'time_left': '2022-04-08T10:42:37'}, '38015471': {'jobid': '38015471', 'name': 'lammps-colloid', 'nodelist': 'nid00010', 'nodes': '1', 'partition': 'debug', 'start_time': '2022-04-27T15:40:22', 'state': 'COMPLETED', 'time': '00:14:24', 'time_left': '2022-04-27T15:40:34'}, '38038203': {'jobid': '38038203', 'name': 'lammps-colloid', 'nodelist': 'nid00451', 'nodes': '1', 'partition': 'debug', 'start_time': '2022-04-28T13:45:30', 'state': 'RUNNING', 'time': '00:13:12', 'time_left': 'Unknown'}}\n"
     ]
    }
   ],
   "source": [
    "jblst = hpc.list_job()\n",
    "print(jblst)"
   ]
  },
  {
   "cell_type": "code",
   "execution_count": null,
   "metadata": {},
   "outputs": [],
   "source": [
    "# resource_id = 'f1701e07-7e48-4b53-a915-6e0a9caad4cf'\n",
    "cmd = f\"cat /scratch/snx3000/jyu/firecrest/jusong_yu/{resource_id}/log.lammps\"\n",
    "!ssh daint.cscs.ch $cmd"
   ]
  },
  {
   "cell_type": "code",
   "execution_count": null,
   "metadata": {},
   "outputs": [],
   "source": [
    "# download the file\n",
    "content = hpc.download(resource_id=resource_id, filename='log.lammps')\n",
    "print(content)"
   ]
  }
 ],
 "metadata": {
  "interpreter": {
   "hash": "ff44bf46afe16611456f7c915984caf83c9aa021617754637634791ae1e9af16"
  },
  "kernelspec": {
   "display_name": "Python 3.9.7 ('hpc-app')",
   "language": "python",
   "name": "python3"
  },
  "language_info": {
   "codemirror_mode": {
    "name": "ipython",
    "version": 3
   },
   "file_extension": ".py",
   "mimetype": "text/x-python",
   "name": "python",
   "nbconvert_exporter": "python",
   "pygments_lexer": "ipython3",
   "version": "3.9.7"
  },
  "orig_nbformat": 4
 },
 "nbformat": 4,
 "nbformat_minor": 2
}
