{
 "cells": [
  {
   "cell_type": "code",
   "execution_count": 1,
   "metadata": {},
   "outputs": [
    {
     "ename": "TypeError",
     "evalue": "__init__() missing 1 required positional argument: 'app_id'",
     "output_type": "error",
     "traceback": [
      "\u001b[0;31m---------------------------------------------------------------------------\u001b[0m",
      "\u001b[0;31mTypeError\u001b[0m                                 Traceback (most recent call last)",
      "\u001b[1;32m/home/jyu/Projects/WP-Marketplace/hpc-sdk/hpc_api.ipynb Cell 1\u001b[0m in \u001b[0;36m<cell line: 9>\u001b[0;34m()\u001b[0m\n\u001b[1;32m      <a href='vscode-notebook-cell://ssh-remote%2Btheospc38.epfl.ch/home/jyu/Projects/WP-Marketplace/hpc-sdk/hpc_api.ipynb#W0sdnNjb2RlLXJlbW90ZQ%3D%3D?line=1'>2</a>\u001b[0m \u001b[39mimport\u001b[39;00m \u001b[39mos\u001b[39;00m\n\u001b[1;32m      <a href='vscode-notebook-cell://ssh-remote%2Btheospc38.epfl.ch/home/jyu/Projects/WP-Marketplace/hpc-sdk/hpc_api.ipynb#W0sdnNjb2RlLXJlbW90ZQ%3D%3D?line=3'>4</a>\u001b[0m \u001b[39m# # Setting the client_id of the hpc app and pass the access_token to using the app through SDK\u001b[39;00m\n\u001b[1;32m      <a href='vscode-notebook-cell://ssh-remote%2Btheospc38.epfl.ch/home/jyu/Projects/WP-Marketplace/hpc-sdk/hpc_api.ipynb#W0sdnNjb2RlLXJlbW90ZQ%3D%3D?line=4'>5</a>\u001b[0m \u001b[39m# hpc = HpcGatewayApp(\u001b[39;00m\n\u001b[1;32m      <a href='vscode-notebook-cell://ssh-remote%2Btheospc38.epfl.ch/home/jyu/Projects/WP-Marketplace/hpc-sdk/hpc_api.ipynb#W0sdnNjb2RlLXJlbW90ZQ%3D%3D?line=5'>6</a>\u001b[0m \u001b[39m#     client_id=\"<client_id>\",\u001b[39;00m\n\u001b[1;32m      <a href='vscode-notebook-cell://ssh-remote%2Btheospc38.epfl.ch/home/jyu/Projects/WP-Marketplace/hpc-sdk/hpc_api.ipynb#W0sdnNjb2RlLXJlbW90ZQ%3D%3D?line=6'>7</a>\u001b[0m \u001b[39m#     access_token=\"<access_token>\",\u001b[39;00m\n\u001b[1;32m      <a href='vscode-notebook-cell://ssh-remote%2Btheospc38.epfl.ch/home/jyu/Projects/WP-Marketplace/hpc-sdk/hpc_api.ipynb#W0sdnNjb2RlLXJlbW90ZQ%3D%3D?line=7'>8</a>\u001b[0m \u001b[39m# )\u001b[39;00m\n\u001b[0;32m----> <a href='vscode-notebook-cell://ssh-remote%2Btheospc38.epfl.ch/home/jyu/Projects/WP-Marketplace/hpc-sdk/hpc_api.ipynb#W0sdnNjb2RlLXJlbW90ZQ%3D%3D?line=8'>9</a>\u001b[0m hpc \u001b[39m=\u001b[39m HpcGatewayApp(\n\u001b[1;32m     <a href='vscode-notebook-cell://ssh-remote%2Btheospc38.epfl.ch/home/jyu/Projects/WP-Marketplace/hpc-sdk/hpc_api.ipynb#W0sdnNjb2RlLXJlbW90ZQ%3D%3D?line=9'>10</a>\u001b[0m     client_id\u001b[39m=\u001b[39;49m\u001b[39m\"\u001b[39;49m\u001b[39m5fd66c68-50e9-474a-b55d-148777ae3efd\u001b[39;49m\u001b[39m\"\u001b[39;49m,\n\u001b[1;32m     <a href='vscode-notebook-cell://ssh-remote%2Btheospc38.epfl.ch/home/jyu/Projects/WP-Marketplace/hpc-sdk/hpc_api.ipynb#W0sdnNjb2RlLXJlbW90ZQ%3D%3D?line=10'>11</a>\u001b[0m     access_token\u001b[39m=\u001b[39;49m\u001b[39m\"\u001b[39;49m\u001b[39meyJhbGciOiJSUzI1NiIsInR5cCIgOiAiSldUIiwia2lkIiA6ICJHUzMzZGxWQ2hXd2tGVExUS2xrU2VzcGxjUHRCdDlHV3VxM0tHWnduZG5rIn0.eyJleHAiOjE2NjExOTQ5ODIsImlhdCI6MTY2MTE2NjE4MiwiYXV0aF90aW1lIjoxNjYxMTY2MTgxLCJqdGkiOiI2MmEyMGE5Yy01OGUyLTRlZmEtODUyMy01NWI3NDAzMTczODUiLCJpc3MiOiJodHRwczovL3d3dy5tYXRlcmlhbHMtbWFya2V0cGxhY2UuZXUvYXV0aC9yZWFsbXMvbWFya2V0cGxhY2UiLCJhdWQiOlsicmVhbG0tbWFuYWdlbWVudCIsImFjY291bnQiLCJhY2Nlc3MtY29udHJvbCJdLCJzdWIiOiJlNTdkMDI4MC03YjM4LTQzMGMtYmZlYi0wZDZlOWJmMGUzZTMiLCJ0eXAiOiJCZWFyZXIiLCJhenAiOiJmcm9udGVuZCIsIm5vbmNlIjoiMTMwZmRjOWMtMWE2YS00NjZjLThiY2MtYTQzZTdkZDE2ZmVhIiwic2Vzc2lvbl9zdGF0ZSI6ImZjNTY0MDNlLWU4ZDEtNGRkOS04Mzg5LTliNGU2ZTQwNTQxNSIsImFjciI6IjEiLCJhbGxvd2VkLW9yaWdpbnMiOlsiaHR0cHM6Ly93d3cubWF0ZXJpYWxzLW1hcmtldHBsYWNlLmV1Il0sInJlYWxtX2FjY2VzcyI6eyJyb2xlcyI6WyJkZWZhdWx0LXJvbGVzLW1hcmtldHBsYWNlIiwib2ZmbGluZV9hY2Nlc3MiLCJhcHAtYWRtaW4iLCJ1bWFfYXV0aG9yaXphdGlvbiIsImFwcC11c2VyIl19LCJyZXNvdXJjZV9hY2Nlc3MiOnsicmVhbG0tbWFuYWdlbWVudCI6eyJyb2xlcyI6WyJtYW5hZ2UtaWRlbnRpdHktcHJvdmlkZXJzIiwibWFuYWdlLXVzZXJzIiwibWFuYWdlLWNsaWVudHMiXX0sImFjY291bnQiOnsicm9sZXMiOlsibWFuYWdlLWFjY291bnQiLCJtYW5hZ2UtYWNjb3VudC1saW5rcyIsInZpZXctcHJvZmlsZSJdfSwiZnJvbnRlbmQiOnsicm9sZXMiOlsiYWRtaW4iLCJ1c2VyIl19LCJhY2Nlc3MtY29udHJvbCI6eyJyb2xlcyI6WyJhZG1pbiIsInVzZXIiXX19LCJzY29wZSI6Im9wZW5pZCBjbGllbnRfcm9sZXNfZnJvbnRlbmQgcHJvZmlsZSBlbWFpbCIsInNpZCI6ImZjNTY0MDNlLWU4ZDEtNGRkOS04Mzg5LTliNGU2ZTQwNTQxNSIsImVtYWlsX3ZlcmlmaWVkIjp0cnVlLCJyb2xlcyI6WyJhZG1pbiIsInVzZXIiXSwibmFtZSI6Ikp1c29uZyBZdSIsInByZWZlcnJlZF91c2VybmFtZSI6Imp1c29uZy55dSIsImdpdmVuX25hbWUiOiJKdXNvbmciLCJmYW1pbHlfbmFtZSI6Ill1IiwiZW1haWwiOiJqdXNvbmcueXVAZXBmbC5jaCJ9.BALPmknb8hq2hZ5jaj3mIdFm2v7C_R_qlZPITAQT1cHlDbjApKzWjQw634HgttxXd6-tn7VmYcqonnPM3_HrlL8sQx7cKVWDyMZ6YDDO2UiAGwByDx1ALk6JxYvC47prNYr1RsWTCnIwImxfl_kl3J9FzWkEeGE1WjRNMjfs-sF1-oIRAnQ-xW-zf6E70u3L-uWHV-rcpeGyJgmxkZPM6AvSzMdrHE49mVOaInD1hYTy_ObWlsppO2xc7WC5dnHnCDsa2yboXUdVwxGivLGb6e74DQTugcp5QueEMjtcUm3WbzxAFDawQQ5jen1AuZsQR6Q1BOsGY_4cS9O4poeaUw\u001b[39;49m\u001b[39m\"\u001b[39;49m,\n\u001b[1;32m     <a href='vscode-notebook-cell://ssh-remote%2Btheospc38.epfl.ch/home/jyu/Projects/WP-Marketplace/hpc-sdk/hpc_api.ipynb#W0sdnNjb2RlLXJlbW90ZQ%3D%3D?line=11'>12</a>\u001b[0m )\n",
      "\u001b[0;31mTypeError\u001b[0m: __init__() missing 1 required positional argument: 'app_id'"
     ]
    }
   ],
   "source": [
    "from marketplace_hpc import HpcGatewayApp\n",
    "import os\n",
    "\n",
    "# # Setting the client_id of the hpc app and pass the access_token to using the app through SDK\n",
    "# hpc = HpcGatewayApp(\n",
    "#     client_id=\"<client_id>\",\n",
    "#     access_token=\"<access_token>\",\n",
    "# )\n",
    "hpc = HpcGatewayApp(\n",
    "    app_id=\"5fd66c68-50e9-474a-b55d-148777ae3efd\",\n",
    "    marketplace_host_url=\"https://www.materials-marketplace.eu/\",\n",
    "    access_token=\"eyJhbGciOiJSUzI1NiIsInR5cCIgOiAiSldUIiwia2lkIiA6ICJHUzMzZGxWQ2hXd2tGVExUS2xrU2VzcGxjUHRCdDlHV3VxM0tHWnduZG5rIn0.eyJleHAiOjE2NjExOTQ5ODIsImlhdCI6MTY2MTE2NjE4MiwiYXV0aF90aW1lIjoxNjYxMTY2MTgxLCJqdGkiOiI2MmEyMGE5Yy01OGUyLTRlZmEtODUyMy01NWI3NDAzMTczODUiLCJpc3MiOiJodHRwczovL3d3dy5tYXRlcmlhbHMtbWFya2V0cGxhY2UuZXUvYXV0aC9yZWFsbXMvbWFya2V0cGxhY2UiLCJhdWQiOlsicmVhbG0tbWFuYWdlbWVudCIsImFjY291bnQiLCJhY2Nlc3MtY29udHJvbCJdLCJzdWIiOiJlNTdkMDI4MC03YjM4LTQzMGMtYmZlYi0wZDZlOWJmMGUzZTMiLCJ0eXAiOiJCZWFyZXIiLCJhenAiOiJmcm9udGVuZCIsIm5vbmNlIjoiMTMwZmRjOWMtMWE2YS00NjZjLThiY2MtYTQzZTdkZDE2ZmVhIiwic2Vzc2lvbl9zdGF0ZSI6ImZjNTY0MDNlLWU4ZDEtNGRkOS04Mzg5LTliNGU2ZTQwNTQxNSIsImFjciI6IjEiLCJhbGxvd2VkLW9yaWdpbnMiOlsiaHR0cHM6Ly93d3cubWF0ZXJpYWxzLW1hcmtldHBsYWNlLmV1Il0sInJlYWxtX2FjY2VzcyI6eyJyb2xlcyI6WyJkZWZhdWx0LXJvbGVzLW1hcmtldHBsYWNlIiwib2ZmbGluZV9hY2Nlc3MiLCJhcHAtYWRtaW4iLCJ1bWFfYXV0aG9yaXphdGlvbiIsImFwcC11c2VyIl19LCJyZXNvdXJjZV9hY2Nlc3MiOnsicmVhbG0tbWFuYWdlbWVudCI6eyJyb2xlcyI6WyJtYW5hZ2UtaWRlbnRpdHktcHJvdmlkZXJzIiwibWFuYWdlLXVzZXJzIiwibWFuYWdlLWNsaWVudHMiXX0sImFjY291bnQiOnsicm9sZXMiOlsibWFuYWdlLWFjY291bnQiLCJtYW5hZ2UtYWNjb3VudC1saW5rcyIsInZpZXctcHJvZmlsZSJdfSwiZnJvbnRlbmQiOnsicm9sZXMiOlsiYWRtaW4iLCJ1c2VyIl19LCJhY2Nlc3MtY29udHJvbCI6eyJyb2xlcyI6WyJhZG1pbiIsInVzZXIiXX19LCJzY29wZSI6Im9wZW5pZCBjbGllbnRfcm9sZXNfZnJvbnRlbmQgcHJvZmlsZSBlbWFpbCIsInNpZCI6ImZjNTY0MDNlLWU4ZDEtNGRkOS04Mzg5LTliNGU2ZTQwNTQxNSIsImVtYWlsX3ZlcmlmaWVkIjp0cnVlLCJyb2xlcyI6WyJhZG1pbiIsInVzZXIiXSwibmFtZSI6Ikp1c29uZyBZdSIsInByZWZlcnJlZF91c2VybmFtZSI6Imp1c29uZy55dSIsImdpdmVuX25hbWUiOiJKdXNvbmciLCJmYW1pbHlfbmFtZSI6Ill1IiwiZW1haWwiOiJqdXNvbmcueXVAZXBmbC5jaCJ9.BALPmknb8hq2hZ5jaj3mIdFm2v7C_R_qlZPITAQT1cHlDbjApKzWjQw634HgttxXd6-tn7VmYcqonnPM3_HrlL8sQx7cKVWDyMZ6YDDO2UiAGwByDx1ALk6JxYvC47prNYr1RsWTCnIwImxfl_kl3J9FzWkEeGE1WjRNMjfs-sF1-oIRAnQ-xW-zf6E70u3L-uWHV-rcpeGyJgmxkZPM6AvSzMdrHE49mVOaInD1hYTy_ObWlsppO2xc7WC5dnHnCDsa2yboXUdVwxGivLGb6e74DQTugcp5QueEMjtcUm3WbzxAFDawQQ5jen1AuZsQR6Q1BOsGY_4cS9O4poeaUw\",\n",
    ")"
   ]
  },
  {
   "cell_type": "code",
   "execution_count": null,
   "metadata": {},
   "outputs": [],
   "source": [
    "# The heartbeat capability to show the state of server and the HPC resource\n",
    "print(hpc.heartbeat())"
   ]
  },
  {
   "cell_type": "markdown",
   "metadata": {},
   "source": [
    "## initialize a new job\n",
    "\n",
    "using capability `new_trasformation`, the app create a folder under the user repository path in the remote HPC resource. \n",
    "The remote path name is returned for futher files transfor operations and as `transformation_id` for job submission."
   ]
  },
  {
   "cell_type": "code",
   "execution_count": null,
   "metadata": {},
   "outputs": [],
   "source": [
    "# The resource_id returned will be the remote path\n",
    "resourceid = hpc.new_job(config=None)\n",
    "print(resourceid)"
   ]
  },
  {
   "cell_type": "code",
   "execution_count": null,
   "metadata": {},
   "outputs": [],
   "source": [
    "!ssh daint.cscs.ch \"cd /scratch/snx3000/jyu/firecrest/jusong_yu/ && ls -l\""
   ]
  },
  {
   "cell_type": "markdown",
   "metadata": {},
   "source": [
    "# Upload input files and slurm job script to the path\n",
    "\n",
    "The capabilities `updateDataset`, `getDataset` and `deleteDataset` are for upload, download and delete files on remote path.\n",
    "\n",
    "However, instead of remote path only it is also require to pass filename to manipulate the files which is not completely compatible with the initial designs of these capabilities which are for database in the first place. \n",
    "I hack it a bit to pass the filename by a json object."
   ]
  },
  {
   "cell_type": "code",
   "execution_count": null,
   "metadata": {},
   "outputs": [],
   "source": [
    "cmd = f'ls -l /scratch/snx3000/jyu/firecrest/jusong_yu/{resourceid}'\n",
    "!ssh daint.cscs.ch $cmd"
   ]
  },
  {
   "cell_type": "code",
   "execution_count": null,
   "metadata": {},
   "outputs": [],
   "source": [
    "! head -n 10 ./sample_files/colloid.in"
   ]
  },
  {
   "cell_type": "code",
   "execution_count": null,
   "metadata": {},
   "outputs": [],
   "source": [
    "# upload -> delete test\n",
    "hpc.upload_file(resourceid=resourceid, source_path='./sample_files/colloid.in')\n",
    "!ssh daint.cscs.ch $cmd # upload check\n",
    "\n",
    "hpc.delete_file(resourceid=resourceid, filename=\"colloid.in\")\n",
    "cmd = f'ls -l /scratch/snx3000/jyu/firecrest/jusong_yu/{resourceid}'\n",
    "!ssh daint.cscs.ch $cmd # delete check"
   ]
  },
  {
   "cell_type": "code",
   "execution_count": null,
   "metadata": {},
   "outputs": [],
   "source": [
    "# send LAMMPS input file and job script to remote folder\n",
    "hpc.upload_file(resourceid=resourceid, source_path='./sample_files/colloid.in')\n",
    "hpc.upload_file(resourceid=resourceid, source_path='./sample_files/submit.sh')"
   ]
  },
  {
   "cell_type": "code",
   "execution_count": null,
   "metadata": {},
   "outputs": [],
   "source": [
    "cmd = f'ls -l /scratch/snx3000/jyu/firecrest/jusong_yu/{resourceid}'\n",
    "!ssh daint.cscs.ch $cmd"
   ]
  },
  {
   "cell_type": "code",
   "execution_count": null,
   "metadata": {},
   "outputs": [],
   "source": [
    "# download the file\n",
    "content = hpc.download_file(resourceid=resourceid, filename='submit.sh')\n",
    "print(content)"
   ]
  },
  {
   "cell_type": "markdown",
   "metadata": {},
   "source": [
    "## Submit job and check the jobs list\n",
    "\n",
    "`start_transformation` corresponding to capability `startTransformation` which will do actuall job submit into the scheduler system and return the job info.\n",
    "Then I can using `get_transformation_list` to retrieve all the jobs of current user in remote resource.\n"
   ]
  },
  {
   "cell_type": "code",
   "execution_count": null,
   "metadata": {},
   "outputs": [],
   "source": [
    "import json\n",
    "\n",
    "jblst = hpc.list_job()\n",
    "print(json.dumps(jblst, indent=2))"
   ]
  },
  {
   "cell_type": "code",
   "execution_count": null,
   "metadata": {},
   "outputs": [],
   "source": [
    "rsp = hpc.run_job(resourceid=resourceid)\n",
    "print(rsp)"
   ]
  },
  {
   "cell_type": "code",
   "execution_count": null,
   "metadata": {},
   "outputs": [],
   "source": [
    "jblst = hpc.list_job()\n",
    "print(jblst)"
   ]
  },
  {
   "cell_type": "code",
   "execution_count": null,
   "metadata": {},
   "outputs": [],
   "source": [
    "delete_job_message = hpc.delete_job(resourceid=resourceid)\n",
    "print(delete_job_message)"
   ]
  },
  {
   "cell_type": "code",
   "execution_count": null,
   "metadata": {},
   "outputs": [],
   "source": [
    "# resource_id = 'f1701e07-7e48-4b53-a915-6e0a9caad4cf'\n",
    "cmd = f\"cat /scratch/snx3000/jyu/firecrest/jusong_yu/{resourceid}/log.lammps\"\n",
    "!ssh daint.cscs.ch $cmd"
   ]
  },
  {
   "cell_type": "code",
   "execution_count": null,
   "metadata": {},
   "outputs": [],
   "source": [
    "# download the file\n",
    "content = hpc.download_file(resourceid=resourceid, filename='log.lammps')\n",
    "print(content)"
   ]
  }
 ],
 "metadata": {
  "interpreter": {
   "hash": "ff44bf46afe16611456f7c915984caf83c9aa021617754637634791ae1e9af16"
  },
  "kernelspec": {
   "display_name": "Python 3.9.7 ('hpc-app')",
   "language": "python",
   "name": "python3"
  },
  "language_info": {
   "codemirror_mode": {
    "name": "ipython",
    "version": 3
   },
   "file_extension": ".py",
   "mimetype": "text/x-python",
   "name": "python",
   "nbconvert_exporter": "python",
   "pygments_lexer": "ipython3",
   "version": "3.9.7"
  },
  "orig_nbformat": 4
 },
 "nbformat": 4,
 "nbformat_minor": 2
}
